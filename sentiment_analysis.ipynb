{
 "cells": [
  {
   "cell_type": "code",
   "execution_count": 22,
   "id": "ea5317e6",
   "metadata": {},
   "outputs": [],
   "source": [
    "import pandas as pd\n",
    "import matplotlib.pyplot as plt"
   ]
  },
  {
   "cell_type": "code",
   "execution_count": 23,
   "id": "49b46bc7",
   "metadata": {},
   "outputs": [
    {
     "data": {
      "text/html": [
       "<div>\n",
       "<style scoped>\n",
       "    .dataframe tbody tr th:only-of-type {\n",
       "        vertical-align: middle;\n",
       "    }\n",
       "\n",
       "    .dataframe tbody tr th {\n",
       "        vertical-align: top;\n",
       "    }\n",
       "\n",
       "    .dataframe thead th {\n",
       "        text-align: right;\n",
       "    }\n",
       "</style>\n",
       "<table border=\"1\" class=\"dataframe\">\n",
       "  <thead>\n",
       "    <tr style=\"text-align: right;\">\n",
       "      <th></th>\n",
       "      <th>tweet_id</th>\n",
       "      <th>entity</th>\n",
       "      <th>sentiment</th>\n",
       "      <th>content</th>\n",
       "    </tr>\n",
       "  </thead>\n",
       "  <tbody>\n",
       "    <tr>\n",
       "      <th>0</th>\n",
       "      <td>2401</td>\n",
       "      <td>Borderlands</td>\n",
       "      <td>Positive</td>\n",
       "      <td>I am coming to the borders and I will kill you...</td>\n",
       "    </tr>\n",
       "    <tr>\n",
       "      <th>1</th>\n",
       "      <td>2401</td>\n",
       "      <td>Borderlands</td>\n",
       "      <td>Positive</td>\n",
       "      <td>im getting on borderlands and i will kill you ...</td>\n",
       "    </tr>\n",
       "    <tr>\n",
       "      <th>2</th>\n",
       "      <td>2401</td>\n",
       "      <td>Borderlands</td>\n",
       "      <td>Positive</td>\n",
       "      <td>im coming on borderlands and i will murder you...</td>\n",
       "    </tr>\n",
       "    <tr>\n",
       "      <th>3</th>\n",
       "      <td>2401</td>\n",
       "      <td>Borderlands</td>\n",
       "      <td>Positive</td>\n",
       "      <td>im getting on borderlands 2 and i will murder ...</td>\n",
       "    </tr>\n",
       "    <tr>\n",
       "      <th>4</th>\n",
       "      <td>2401</td>\n",
       "      <td>Borderlands</td>\n",
       "      <td>Positive</td>\n",
       "      <td>im getting into borderlands and i can murder y...</td>\n",
       "    </tr>\n",
       "  </tbody>\n",
       "</table>\n",
       "</div>"
      ],
      "text/plain": [
       "   tweet_id       entity sentiment  \\\n",
       "0      2401  Borderlands  Positive   \n",
       "1      2401  Borderlands  Positive   \n",
       "2      2401  Borderlands  Positive   \n",
       "3      2401  Borderlands  Positive   \n",
       "4      2401  Borderlands  Positive   \n",
       "\n",
       "                                             content  \n",
       "0  I am coming to the borders and I will kill you...  \n",
       "1  im getting on borderlands and i will kill you ...  \n",
       "2  im coming on borderlands and i will murder you...  \n",
       "3  im getting on borderlands 2 and i will murder ...  \n",
       "4  im getting into borderlands and i can murder y...  "
      ]
     },
     "execution_count": 23,
     "metadata": {},
     "output_type": "execute_result"
    }
   ],
   "source": [
    "train_df = pd.read_csv('twitter_training.csv')\n",
    "train_df.columns = ['tweet_id', 'entity', 'sentiment', 'content']\n",
    "train_df.head()"
   ]
  },
  {
   "cell_type": "code",
   "execution_count": 24,
   "id": "fde746cc",
   "metadata": {},
   "outputs": [
    {
     "data": {
      "text/html": [
       "<div>\n",
       "<style scoped>\n",
       "    .dataframe tbody tr th:only-of-type {\n",
       "        vertical-align: middle;\n",
       "    }\n",
       "\n",
       "    .dataframe tbody tr th {\n",
       "        vertical-align: top;\n",
       "    }\n",
       "\n",
       "    .dataframe thead th {\n",
       "        text-align: right;\n",
       "    }\n",
       "</style>\n",
       "<table border=\"1\" class=\"dataframe\">\n",
       "  <thead>\n",
       "    <tr style=\"text-align: right;\">\n",
       "      <th></th>\n",
       "      <th>tweet_id</th>\n",
       "      <th>entity</th>\n",
       "      <th>sentiment</th>\n",
       "      <th>content</th>\n",
       "    </tr>\n",
       "  </thead>\n",
       "  <tbody>\n",
       "    <tr>\n",
       "      <th>0</th>\n",
       "      <td>352</td>\n",
       "      <td>Amazon</td>\n",
       "      <td>Neutral</td>\n",
       "      <td>BBC News - Amazon boss Jeff Bezos rejects clai...</td>\n",
       "    </tr>\n",
       "    <tr>\n",
       "      <th>1</th>\n",
       "      <td>8312</td>\n",
       "      <td>Microsoft</td>\n",
       "      <td>Negative</td>\n",
       "      <td>@Microsoft Why do I pay for WORD when it funct...</td>\n",
       "    </tr>\n",
       "    <tr>\n",
       "      <th>2</th>\n",
       "      <td>4371</td>\n",
       "      <td>CS-GO</td>\n",
       "      <td>Negative</td>\n",
       "      <td>CSGO matchmaking is so full of closet hacking,...</td>\n",
       "    </tr>\n",
       "    <tr>\n",
       "      <th>3</th>\n",
       "      <td>4433</td>\n",
       "      <td>Google</td>\n",
       "      <td>Neutral</td>\n",
       "      <td>Now the President is slapping Americans in the...</td>\n",
       "    </tr>\n",
       "    <tr>\n",
       "      <th>4</th>\n",
       "      <td>6273</td>\n",
       "      <td>FIFA</td>\n",
       "      <td>Negative</td>\n",
       "      <td>Hi @EAHelp I’ve had Madeleine McCann in my cel...</td>\n",
       "    </tr>\n",
       "  </tbody>\n",
       "</table>\n",
       "</div>"
      ],
      "text/plain": [
       "   tweet_id     entity sentiment  \\\n",
       "0       352     Amazon   Neutral   \n",
       "1      8312  Microsoft  Negative   \n",
       "2      4371      CS-GO  Negative   \n",
       "3      4433     Google   Neutral   \n",
       "4      6273       FIFA  Negative   \n",
       "\n",
       "                                             content  \n",
       "0  BBC News - Amazon boss Jeff Bezos rejects clai...  \n",
       "1  @Microsoft Why do I pay for WORD when it funct...  \n",
       "2  CSGO matchmaking is so full of closet hacking,...  \n",
       "3  Now the President is slapping Americans in the...  \n",
       "4  Hi @EAHelp I’ve had Madeleine McCann in my cel...  "
      ]
     },
     "execution_count": 24,
     "metadata": {},
     "output_type": "execute_result"
    }
   ],
   "source": [
    "val_df = pd.read_csv('twitter_validation.csv')\n",
    "val_df.columns = ['tweet_id', 'entity', 'sentiment', 'content']\n",
    "val_df.head()"
   ]
  },
  {
   "cell_type": "code",
   "execution_count": 25,
   "id": "7dc70b75",
   "metadata": {},
   "outputs": [
    {
     "name": "stdout",
     "output_type": "stream",
     "text": [
      "sentiment\n",
      "Negative      22542\n",
      "Positive      20831\n",
      "Neutral       18318\n",
      "Irrelevant    12990\n",
      "Name: count, dtype: int64\n"
     ]
    }
   ],
   "source": [
    "print(train_df['sentiment'].value_counts())"
   ]
  },
  {
   "cell_type": "code",
   "execution_count": 26,
   "id": "f5c643d0",
   "metadata": {},
   "outputs": [
    {
     "name": "stdout",
     "output_type": "stream",
     "text": [
      "tweet_id       0\n",
      "entity         0\n",
      "sentiment      0\n",
      "content      686\n",
      "dtype: int64\n"
     ]
    }
   ],
   "source": [
    "print(train_df.isnull().sum())"
   ]
  },
  {
   "cell_type": "code",
   "execution_count": 27,
   "id": "16fe5f12",
   "metadata": {},
   "outputs": [],
   "source": [
    "import re\n",
    "import torch\n",
    "from sklearn.preprocessing import LabelEncoder\n",
    "from collections import Counter"
   ]
  },
  {
   "cell_type": "code",
   "execution_count": 28,
   "id": "6c3d7272",
   "metadata": {},
   "outputs": [],
   "source": [
    "def clean_tweet(tweet):\n",
    "    if not isinstance(tweet, str): # kiểm tra dữ liệu đầu vào\n",
    "        return \"\"\n",
    "    tweet = tweet.lower() # chuyển về chữ thường \n",
    "    tweet = re.sub(r\"http\\S+\", \"\", tweet)      # remove URLs\n",
    "    tweet = re.sub(r\"@\\w+\", \"\", tweet)         # remove mentions\n",
    "    tweet = re.sub(r\"#\", \"\", tweet)            # remove hashtag symbol\n",
    "    tweet = re.sub(r\"[^\\w\\s]\", \"\", tweet)      # remove punctuation\n",
    "    tweet = re.sub(r\"\\s+\", \" \", tweet).strip() # remove extra spaces\n",
    "    return tweet\n",
    "\n",
    "train_df['clean_text'] = train_df['content'].apply(clean_tweet) \n",
    "val_df['clean_text'] = val_df['content'].apply(clean_tweet)"
   ]
  },
  {
   "cell_type": "code",
   "execution_count": 29,
   "id": "50bac455",
   "metadata": {},
   "outputs": [],
   "source": [
    "label_encoder = LabelEncoder()\n",
    "train_df['label'] = label_encoder.fit_transform(train_df['sentiment']) # chuyển các nhãn thành số\n",
    "val_df['label'] = label_encoder.transform(val_df['sentiment'])"
   ]
  },
  {
   "cell_type": "code",
   "execution_count": 30,
   "id": "864d044d",
   "metadata": {},
   "outputs": [],
   "source": [
    "tokenized = train_df['clean_text'].apply(lambda x: x.split()) # biến mỗi văn bản thành một danh sách các từ (token hóa)"
   ]
  },
  {
   "cell_type": "code",
   "execution_count": 31,
   "id": "0496594d",
   "metadata": {},
   "outputs": [],
   "source": [
    "word_counts = Counter(word for sentence in tokenized for word in sentence) # đếm tần suất từ trong câu \n",
    "vocab = {word: idx + 2 for idx, (word, _) in enumerate(word_counts.items())} # ánh xạ từ sang số nguyên \n",
    "vocab['<PAD>'] = 0 # các câu ngắn hơn độ dài cố định gán chỉ số 0\n",
    "vocab['<UNK>'] = 1 # các từ không có trong từ điển gán chỉ số 1"
   ]
  },
  {
   "cell_type": "code",
   "execution_count": 32,
   "id": "f6f431f7",
   "metadata": {},
   "outputs": [],
   "source": [
    "def encode_sentence(sentence, vocab, max_len=32):\n",
    "    tokens = sentence.split() # tách từ\n",
    "    ids = [vocab.get(token, vocab['<UNK>']) for token in tokens] # ánh xạ từ sang số nguyên\n",
    "    if len(ids) < max_len:\n",
    "        ids += [vocab['<PAD>']] * (max_len - len(ids)) # thêm 0 vào cuối để đủ độ dài \n",
    "    else:\n",
    "        ids = ids[:max_len] # cắt bớt độ dài đến max_len\n",
    "    return ids"
   ]
  },
  {
   "cell_type": "code",
   "execution_count": 33,
   "id": "10433ef3",
   "metadata": {},
   "outputs": [],
   "source": [
    "train_df['input_ids'] = train_df['clean_text'].apply(lambda x: encode_sentence(x, vocab)) # biến văn bản thành chuỗi số nguyên \n",
    "val_df['input_ids'] = val_df['clean_text'].apply(lambda x: encode_sentence(x, vocab))"
   ]
  },
  {
   "cell_type": "markdown",
   "id": "b9bc02ff",
   "metadata": {},
   "source": [
    "train_df có cột input_ids: danh sách các số đại diện từ\n",
    "\n",
    "\n",
    "train_df['label']: nhãn cảm xúc đã mã hóa"
   ]
  },
  {
   "cell_type": "code",
   "execution_count": 34,
   "id": "33fb5dce",
   "metadata": {},
   "outputs": [],
   "source": [
    "from torch.utils.data import Dataset\n",
    "\n",
    "class TweetDataset(Dataset):\n",
    "    def __init__(self, input_ids, labels):\n",
    "        self.input_ids = input_ids\n",
    "        self.labels = labels\n",
    "\n",
    "    def __len__(self): # trả về số lượng mẫu trong dataset dựa vào độ dài của danh sách labels \n",
    "        return len(self.labels)\n",
    "\n",
    "    def __getitem__(self, idx): \n",
    "        return {\n",
    "            'input_ids': torch.tensor(self.input_ids[idx], dtype=torch.long), # danh sách số nguyên đại diện cho câu tại vị trí idx\n",
    "            'label': torch.tensor(self.labels[idx], dtype=torch.long) # chuyển danh sách thành tensor kiểu long (số nguyên 64-bit)\n",
    "        }"
   ]
  },
  {
   "cell_type": "code",
   "execution_count": 35,
   "id": "17cec3c4",
   "metadata": {},
   "outputs": [],
   "source": [
    "train_dataset = TweetDataset( # tạo dataset chuẩn PyTorch để đưa vào DataLoader huấn luyện mô hình \n",
    "    input_ids=train_df['input_ids'].tolist(),\n",
    "    labels=train_df['label'].tolist()\n",
    ")\n",
    "\n",
    "val_dataset = TweetDataset(\n",
    "    input_ids=val_df['input_ids'].tolist(),\n",
    "    labels=val_df['label'].tolist()\n",
    ")"
   ]
  },
  {
   "cell_type": "code",
   "execution_count": 36,
   "id": "8f529f38",
   "metadata": {},
   "outputs": [],
   "source": [
    "from torch.utils.data import DataLoader\n",
    "\n",
    "train_loader = DataLoader(\n",
    "    train_dataset, # dữ liệu đầu vào \n",
    "    batch_size=32, # mỗi batch chứa 32 dữ liệu ( batch là tập con của dữ liệu đầu vào, được đưa vào mô hình cùng một lúc, thay vì từng mẫu một)\n",
    "    shuffle=True # trộn ngẫu nhiên dữ liệu sau mỗi epoch(1 vòng huấn luyện dữ liệu) giúp giảm overfitting \n",
    ")\n",
    "\n",
    "val_loader = DataLoader(\n",
    "    val_dataset,\n",
    "    batch_size=32,\n",
    "    shuffle=False\n",
    ")"
   ]
  },
  {
   "cell_type": "code",
   "execution_count": 37,
   "id": "730d8050",
   "metadata": {},
   "outputs": [
    {
     "name": "stdout",
     "output_type": "stream",
     "text": [
      "Input IDs: torch.Size([32, 32])\n",
      "Labels: torch.Size([32])\n"
     ]
    }
   ],
   "source": [
    "batch = next(iter(train_loader)) # lấy batch đầu tiên trong DataLoader\n",
    "print(\"Input IDs:\", batch['input_ids'].shape) # In ra shape (kích thước) của tensor input_ids trong batch ( sẽ là batch_size, max_len)\n",
    "print(\"Labels:\", batch['label'].shape) # có 32 nhãn (1 nhãn cho mỗi câu trong batch)      "
   ]
  },
  {
   "cell_type": "code",
   "execution_count": null,
   "id": "576cb943",
   "metadata": {},
   "outputs": [],
   "source": [
    "import torch.nn as nn\n",
    "\n",
    "class LSTMClassifier(nn.Module):\n",
    "    def __init__(self, vocab_size, embedding_dim, hidden_dim, output_dim):\n",
    "        super(LSTMClassifier, self).__init__()\n",
    "\n",
    "        self.embedding = nn.Embedding(vocab_size, embedding_dim)\n",
    "        self.lstm = nn.LSTM(embedding_dim, hidden_dim, batch_first=True)\n",
    "        self.fc = nn.Linear(hidden_dim, output_dim)\n",
    "        self.softmax = nn.Softmax(dim=1)\n",
    "\n",
    "    def forward(self, x):\n",
    "        embedded = self.embedding(x)              \n",
    "        lstm_out, _ = self.lstm(embedded)  \n",
    "        last_hidden = lstm_out[:, -1, :]          \n",
    "        output = self.fc(last_hidden)            \n",
    "        return output\n"
   ]
  },
  {
   "cell_type": "code",
   "execution_count": null,
   "id": "45ce8fe8",
   "metadata": {},
   "outputs": [],
   "source": [
    "vocab_size = len(vocab)\n",
    "embedding_dim = 100       \n",
    "hidden_dim = 128\n",
    "output_dim = len(label_encoder.classes_)  \n",
    "\n",
    "model = LSTMClassifier(vocab_size, embedding_dim, hidden_dim, output_dim)\n"
   ]
  },
  {
   "cell_type": "code",
   "execution_count": 40,
   "id": "7f976427",
   "metadata": {},
   "outputs": [],
   "source": [
    "device = torch.device(\"cuda\" if torch.cuda.is_available() else \"cpu\")\n",
    "model = model.to(device)\n",
    "\n",
    "criterion = nn.CrossEntropyLoss()\n",
    "optimizer = torch.optim.Adam(model.parameters(), lr=1e-3)"
   ]
  },
  {
   "cell_type": "code",
   "execution_count": 41,
   "id": "d63e051f",
   "metadata": {},
   "outputs": [],
   "source": [
    "def train(model, dataloader, optimizer, criterion):\n",
    "    model.train()\n",
    "    total_loss, total_correct = 0, 0\n",
    "\n",
    "    for batch in dataloader:\n",
    "        input_ids = batch['input_ids'].to(device)\n",
    "        labels = batch['label'].to(device)\n",
    "\n",
    "        outputs = model(input_ids)\n",
    "        loss = criterion(outputs, labels)\n",
    "\n",
    "        optimizer.zero_grad()\n",
    "        loss.backward()\n",
    "        optimizer.step()\n",
    "\n",
    "        total_loss += loss.item()\n",
    "        preds = outputs.argmax(dim=1)\n",
    "        total_correct += (preds == labels).sum().item()\n",
    "\n",
    "    accuracy = total_correct / len(dataloader.dataset)\n",
    "    return total_loss / len(dataloader), accuracy\n",
    "\n",
    "\n",
    "def evaluate(model, dataloader, criterion):\n",
    "    model.eval()\n",
    "    total_loss, total_correct = 0, 0\n",
    "\n",
    "    with torch.no_grad():\n",
    "        for batch in dataloader:\n",
    "            input_ids = batch['input_ids'].to(device)\n",
    "            labels = batch['label'].to(device)\n",
    "\n",
    "            outputs = model(input_ids)\n",
    "            loss = criterion(outputs, labels)\n",
    "\n",
    "            total_loss += loss.item()\n",
    "            preds = outputs.argmax(dim=1)\n",
    "            total_correct += (preds == labels).sum().item()\n",
    "\n",
    "    accuracy = total_correct / len(dataloader.dataset)\n",
    "    return total_loss / len(dataloader), accuracy\n"
   ]
  },
  {
   "cell_type": "code",
   "execution_count": 42,
   "id": "322b629f",
   "metadata": {},
   "outputs": [
    {
     "name": "stdout",
     "output_type": "stream",
     "text": [
      "Epoch 1/10\n",
      "Train Loss: 1.2820, Accuracy: 0.4364\n",
      "Val   Loss: 1.1609, Accuracy: 0.5666\n",
      "Epoch 2/10\n",
      "Train Loss: 1.1403, Accuracy: 0.5935\n",
      "Val   Loss: 1.0780, Accuracy: 0.6567\n",
      "Epoch 3/10\n",
      "Train Loss: 1.0651, Accuracy: 0.6717\n",
      "Val   Loss: 0.9982, Accuracy: 0.7427\n",
      "Epoch 4/10\n",
      "Train Loss: 1.0075, Accuracy: 0.7322\n",
      "Val   Loss: 0.9526, Accuracy: 0.7848\n",
      "Epoch 5/10\n",
      "Train Loss: 0.9651, Accuracy: 0.7752\n",
      "Val   Loss: 0.9185, Accuracy: 0.8218\n",
      "Epoch 6/10\n",
      "Train Loss: 0.9373, Accuracy: 0.8039\n",
      "Val   Loss: 0.9243, Accuracy: 0.8148\n",
      "Epoch 7/10\n",
      "Train Loss: 0.9154, Accuracy: 0.8258\n",
      "Val   Loss: 0.8999, Accuracy: 0.8378\n",
      "Epoch 8/10\n",
      "Train Loss: 0.9004, Accuracy: 0.8407\n",
      "Val   Loss: 0.8816, Accuracy: 0.8579\n",
      "Epoch 9/10\n",
      "Train Loss: 0.8874, Accuracy: 0.8538\n",
      "Val   Loss: 0.8732, Accuracy: 0.8639\n",
      "Epoch 10/10\n",
      "Train Loss: 0.8781, Accuracy: 0.8634\n",
      "Val   Loss: 0.8778, Accuracy: 0.8579\n"
     ]
    }
   ],
   "source": [
    "num_epochs = 10\n",
    "\n",
    "for epoch in range(num_epochs):\n",
    "    train_loss, train_acc = train(model, train_loader, optimizer, criterion)\n",
    "    val_loss, val_acc = evaluate(model, val_loader, criterion)\n",
    "\n",
    "    print(f\"Epoch {epoch+1}/{num_epochs}\")\n",
    "    print(f\"Train Loss: {train_loss:.4f}, Accuracy: {train_acc:.4f}\")\n",
    "    print(f\"Val   Loss: {val_loss:.4f}, Accuracy: {val_acc:.4f}\")\n"
   ]
  }
 ],
 "metadata": {
  "kernelspec": {
   "display_name": "Python 3",
   "language": "python",
   "name": "python3"
  },
  "language_info": {
   "codemirror_mode": {
    "name": "ipython",
    "version": 3
   },
   "file_extension": ".py",
   "mimetype": "text/x-python",
   "name": "python",
   "nbconvert_exporter": "python",
   "pygments_lexer": "ipython3",
   "version": "3.11.9"
  }
 },
 "nbformat": 4,
 "nbformat_minor": 5
}
